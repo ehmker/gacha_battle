{
 "cells": [
  {
   "cell_type": "markdown",
   "metadata": {},
   "source": [
    "##### Example Logic for Dice Rolls"
   ]
  },
  {
   "cell_type": "code",
   "execution_count": 3,
   "metadata": {},
   "outputs": [],
   "source": [
    "import random\n",
    "def dice_roll_simulation(dice_list, sim_runs=10000):\n",
    "    total = 0\n",
    "    for i in range(sim_runs):\n",
    "        roll_sum = 0\n",
    "        for dice in dice_list:\n",
    "            match dice:\n",
    "                case 'd4':\n",
    "                    roll_sum += random.randint(1,4)\n",
    "                case 'd6':\n",
    "                    roll_sum += random.randint(1, 6)\n",
    "                case 'd8':\n",
    "                    roll_sum += random.randint(1, 8)\n",
    "                case 'd10':\n",
    "                    roll_sum += random.randint(1, 10)\n",
    "                case 'd12':\n",
    "                    roll_sum += random.randint(1, 12)\n",
    "                case 'd20':\n",
    "                    roll_sum += random.randint(1, 20)\n",
    "        total += roll_sum\n",
    "    print(f\"simulated ev of {sim_runs} runs = {total/sim_runs}\")"
   ]
  },
  {
   "cell_type": "code",
   "execution_count": 6,
   "metadata": {},
   "outputs": [
    {
     "name": "stdout",
     "output_type": "stream",
     "text": [
      "simulated ev of 10000 runs = 8.9295\n"
     ]
    }
   ],
   "source": [
    "dice_roll_simulation(['d4', 'd12'])"
   ]
  },
  {
   "cell_type": "markdown",
   "metadata": {},
   "source": [
    "##### Example Logic for Lottery Rolls"
   ]
  },
  {
   "cell_type": "code",
   "execution_count": 24,
   "metadata": {},
   "outputs": [],
   "source": [
    "rarity_distribution = {\n",
    "    \"Common\": 50,\n",
    "    \"Uncommon\": 30,\n",
    "    \"Rare\": 15,\n",
    "    \"Legendary\": 4,\n",
    "    \"Mythic\": 1\n",
    "}\n",
    "\n",
    "def pick_rarity(distribution):\n",
    "    \"\"\"\n",
    "    Function to pick a rarity based on the given distribution.\n",
    "    \"\"\"\n",
    "    random_num = random.uniform(0, 100)\n",
    "    cumulative_probability = 0.0\n",
    "    for rarity, probability in distribution.items():\n",
    "        cumulative_probability += probability\n",
    "        if random_num <= cumulative_probability:\n",
    "            return rarity\n",
    "    return \"Common\"  # Fallback in case of rounding errors\n",
    "\n",
    "def sim_rarity(simulations=1003400):\n",
    "    real_dist = {\n",
    "        \"Common\": 0,\n",
    "        \"Uncommon\": 0,\n",
    "        \"Rare\": 0,\n",
    "        \"Legendary\": 0,\n",
    "        \"Mythic\": 0}\n",
    "    rarity_distribution = {\n",
    "    \"Common\": 50,\n",
    "    \"Uncommon\": 30,\n",
    "    \"Rare\": 15,\n",
    "    \"Legendary\": 4,\n",
    "    \"Mythic\": 1\n",
    "}\n",
    "    for i in range(simulations):\n",
    "        pick = pick_rarity(rarity_distribution)\n",
    "        real_dist[pick] += 1\n",
    "    \n",
    "    for rarity, count in real_dist.items():\n",
    "        print(f'{rarity} appeared {count} -- {round(count/simulations * 100, 2)}%')"
   ]
  },
  {
   "cell_type": "code",
   "execution_count": 25,
   "metadata": {},
   "outputs": [
    {
     "name": "stdout",
     "output_type": "stream",
     "text": [
      "Common appeared 501886 -- 50.02%\n",
      "Uncommon appeared 301478 -- 30.05%\n",
      "Rare appeared 149796 -- 14.93%\n",
      "Legendary appeared 40069 -- 3.99%\n",
      "Mythic appeared 10171 -- 1.01%\n"
     ]
    }
   ],
   "source": [
    "sim_rarity()"
   ]
  },
  {
   "cell_type": "markdown",
   "metadata": {},
   "source": [
    "#### Dice roll cook"
   ]
  },
  {
   "cell_type": "code",
   "execution_count": null,
   "metadata": {},
   "outputs": [],
   "source": [
    "class Dice():\n",
    "    def __init__(self, type) -> None:\n",
    "        self.dice_type = type\n",
    "    \n",
    "    def roll(self):\n",
    "        match self.dice_type:\n",
    "            case 'd4':\n",
    "                roll_sum += random.randint(1,4)\n",
    "            case 'd6':\n",
    "                roll_sum += random.randint(1, 6)\n",
    "            case 'd8':\n",
    "                roll_sum += random.randint(1, 8)\n",
    "            case 'd10':\n",
    "                roll_sum += random.randint(1, 10)\n",
    "            case 'd12':\n",
    "                roll_sum += random.randint(1, 12)\n",
    "            case 'd20':\n",
    "                roll_sum += random.randint(1, 20)"
   ]
  },
  {
   "cell_type": "code",
   "execution_count": 27,
   "metadata": {},
   "outputs": [],
   "source": [
    "ex = 'd4'\n",
    "for i in ex:\n",
    "    match i:\n",
    "        case 'd4':\n",
    "            print(random.randint(1, 4))\n",
    "        case 'd6':\n",
    "            print(random.randint(1, 6))\n",
    "        case 'd8':\n",
    "            print(random.randint(1, 8))\n",
    "        case 'd10':\n",
    "            print(random.randint(1, 10))\n",
    "        case 'd12':\n",
    "            print(random.randint(1, 12))\n",
    "        case 'd20':\n",
    "            print(random.randint(1, 20))"
   ]
  },
  {
   "cell_type": "code",
   "execution_count": 1,
   "metadata": {},
   "outputs": [
    {
     "name": "stdout",
     "output_type": "stream",
     "text": [
      "good guy deals 3 damage\n",
      "less good guy deals 5 damage\n",
      "good guy deals 1 damage\n",
      "less good guy deals 1 damage\n"
     ]
    }
   ],
   "source": [
    "from creature import Creature\n",
    "\n",
    "p1_dice ={\n",
    "    'HP': [\"d8\"],\n",
    "    'ATK': ['d6'],\n",
    "    'END': ['d4'],\n",
    "    'REC': ['d4']     \n",
    "}\n",
    "p2_dice = {\n",
    "    'HP': [\"d8\"],\n",
    "    'ATK': ['d4'],\n",
    "    'END': ['d6'],\n",
    "    'REC': ['d4']   \n",
    "}\n",
    "\n",
    "p1 = Creature('good guy', p1_dice)\n",
    "p2 = Creature('less good guy', p2_dice)\n",
    "\n",
    "p1.set_HP()\n",
    "p2.set_HP()\n",
    "\n",
    "while p1.is_alive and p2.is_alive:\n",
    "    p1.attack(p2)\n",
    "    print()"
   ]
  }
 ],
 "metadata": {
  "kernelspec": {
   "display_name": "Python 3",
   "language": "python",
   "name": "python3"
  },
  "language_info": {
   "codemirror_mode": {
    "name": "ipython",
    "version": 3
   },
   "file_extension": ".py",
   "mimetype": "text/x-python",
   "name": "python",
   "nbconvert_exporter": "python",
   "pygments_lexer": "ipython3",
   "version": "3.12.2"
  }
 },
 "nbformat": 4,
 "nbformat_minor": 2
}
